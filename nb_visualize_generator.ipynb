{
 "cells": [
  {
   "cell_type": "markdown",
   "metadata": {},
   "source": [
    "# Create z-space and y-space interpolation gifs\n",
    "\n",
    "Additional dependencies:\n",
    "```\n",
    "imageio\n",
    "```\n",
    "\n",
    "Hard-coded to handle vae at the moment. Will need to reimplement once I add the other models."
   ]
  },
  {
   "cell_type": "code",
   "execution_count": 83,
   "metadata": {
    "collapsed": true,
    "scrolled": true
   },
   "outputs": [],
   "source": [
    "import os\n",
    "import sys\n",
    "import argparse\n",
    "from codebase import args as codebase_args\n",
    "from pprint import pprint\n",
    "import tensorflow as tf\n",
    "from glob import glob\n",
    "import numpy as np\n",
    "import imageio\n",
    "\n",
    "# Settings\n",
    "parser = argparse.ArgumentParser(formatter_class=argparse.ArgumentDefaultsHelpFormatter)\n",
    "parser.add_argument('--src',    type=str,   default='svhn',    help=\"Src data\")\n",
    "parser.add_argument('--trg',    type=str,   default='extra',   help=\"Trg data\")\n",
    "parser.add_argument('--design', type=str,   default='v1',      help=\"design\")\n",
    "parser.add_argument('--gw',     type=float, default=.01,       help=\"Gen weight\")\n",
    "parser.add_argument('--rw',     type=float, default=0.5,       help=\"Rec weight\")\n",
    "parser.add_argument('--npc',    type=int,   default=None,      help=\"NPC\")\n",
    "parser.add_argument('--lr',     type=float, default=3e-3,      help=\"Learning rate\")\n",
    "parser.add_argument('--run',    type=int,   default=999,       help=\"Run index\")\n",
    "parser.add_argument('--logdir', type=str,   default='log',     help=\"Log directory\")\n",
    "codebase_args.args = args = parser.parse_args([])"
   ]
  },
  {
   "cell_type": "code",
   "execution_count": 36,
   "metadata": {
    "collapsed": true
   },
   "outputs": [],
   "source": [
    "def t2u(x):\n",
    "    \"\"\"\n",
    "    Convert 'tanh' encoding to 'uint-8' encoding\n",
    "    \"\"\"\n",
    "    s = (x + 1) / 2\n",
    "    u = (s * 255).astype('uint8')\n",
    "    return u\n",
    "\n",
    "def build_model(design):\n",
    "    args.design = design\n",
    "\n",
    "    from codebase.models.vae import vae\n",
    "    from codebase.train import train\n",
    "    from codebase.utils import get_data\n",
    "\n",
    "    M = vae()\n",
    "    M.sess.run(tf.global_variables_initializer())\n",
    "    saver = tf.train.Saver()\n",
    "    \n",
    "    return M, saver"
   ]
  },
  {
   "cell_type": "code",
   "execution_count": 37,
   "metadata": {
    "collapsed": true
   },
   "outputs": [],
   "source": [
    "M, saver = build_model('v2')"
   ]
  },
  {
   "cell_type": "code",
   "execution_count": 38,
   "metadata": {
    "scrolled": true
   },
   "outputs": [
    {
     "name": "stdout",
     "output_type": "stream",
     "text": [
      "INFO:tensorflow:Restoring parameters from checkpoints/model=vae_src=svhn_trg=extra_design=v2_gw=1e-02_rw=5e-01_npc=100_lr=3e-03_run=0000/model-160000\n"
     ]
    },
    {
     "name": "stderr",
     "output_type": "stream",
     "text": [
      "INFO:tensorflow:Restoring parameters from checkpoints/model=vae_src=svhn_trg=extra_design=v2_gw=1e-02_rw=5e-01_npc=100_lr=3e-03_run=0000/model-160000\n"
     ]
    }
   ],
   "source": [
    "path = glob('checkpoints/*extra*v2_gw*')[0]\n",
    "path = tf.train.latest_checkpoint(path)\n",
    "saver.restore(M.sess, path)"
   ]
  },
  {
   "cell_type": "code",
   "execution_count": 104,
   "metadata": {
    "collapsed": true,
    "scrolled": true
   },
   "outputs": [],
   "source": [
    "def generate_img_by_z(z, n=10):\n",
    "    z = z.reshape(n, 100)\n",
    "    z = np.tile(z, (100 / n, 1))\n",
    "    y = np.tile(np.eye(10), (10, 1)).T.reshape(-1, 10)\n",
    "    \n",
    "    x = t2u(M.fn_fake_x(z, y))\n",
    "    img = x.reshape(10, 10, 32, 32, 3).swapaxes(1, 2).reshape(320, 320, 3)\n",
    "    return img    \n",
    "\n",
    "def generate_img_by_y(y, z_fix):\n",
    "    y = y.reshape(1, 10)\n",
    "    y = np.tile(y, (100, 1))\n",
    "    x = t2u(M.fn_fake_x(z_fix, y))\n",
    "    img = x.reshape(10, 10, 32, 32, 3).swapaxes(1, 2).reshape(320, 320, 3)\n",
    "    return img    \n",
    "\n",
    "def generate_seq(z0, z1):\n",
    "    ts = (np.cos(np.linspace(0, np.pi, 10)) + 1) / 2\n",
    "    zs = [t * z0 + (1 - t) * z1 for t in ts]\n",
    "    return zs"
   ]
  },
  {
   "cell_type": "code",
   "execution_count": 108,
   "metadata": {
    "collapsed": true
   },
   "outputs": [],
   "source": [
    "n = 10\n",
    "z_keyframes = [np.random.randn(n, 100) for i in xrange(10)]\n",
    "z_keyframes += [z_keyframes[0]]\n",
    "\n",
    "zs = []\n",
    "for i in xrange(10):\n",
    "    z_interps = generate_seq(z_keyframes[i], z_keyframes[i + 1])\n",
    "    for z in z_interps:\n",
    "        zs += [z]\n",
    "        \n",
    "imgs = []\n",
    "for z in zs:\n",
    "    imgs += [generate_img_by_z(z, n=n)]"
   ]
  },
  {
   "cell_type": "code",
   "execution_count": 110,
   "metadata": {
    "collapsed": true
   },
   "outputs": [],
   "source": [
    "imageio.mimwrite('interp_by_z.gif', imgs , fps = 10)"
   ]
  },
  {
   "cell_type": "code",
   "execution_count": 111,
   "metadata": {
    "collapsed": true
   },
   "outputs": [],
   "source": [
    "z_fix = np.random.randn(100, 100)\n",
    "y_keyframes = [np.eye(10)[i] for i in xrange(10)]\n",
    "y_keyframes += [y_keyframes[0]]\n",
    "\n",
    "ys = []\n",
    "for i in xrange(10):\n",
    "    y_interps = generate_seq(y_keyframes[i], y_keyframes[i + 1])\n",
    "    for y in y_interps:\n",
    "        ys += [y]\n",
    "        \n",
    "imgs = []\n",
    "for y in ys:\n",
    "    imgs += [generate_img_by_y(y, z_fix=z_fix)]"
   ]
  },
  {
   "cell_type": "code",
   "execution_count": 112,
   "metadata": {
    "collapsed": true
   },
   "outputs": [],
   "source": [
    "imageio.mimwrite('interp_by_y.gif', imgs , fps = 10)"
   ]
  }
 ],
 "metadata": {
  "kernelspec": {
   "display_name": "Python 2",
   "language": "python",
   "name": "python2"
  },
  "language_info": {
   "codemirror_mode": {
    "name": "ipython",
    "version": 2
   },
   "file_extension": ".py",
   "mimetype": "text/x-python",
   "name": "python",
   "nbconvert_exporter": "python",
   "pygments_lexer": "ipython2",
   "version": "2.7.12"
  }
 },
 "nbformat": 4,
 "nbformat_minor": 2
}
